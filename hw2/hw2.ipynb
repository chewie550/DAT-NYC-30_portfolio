{
 "cells": [
  {
   "cell_type": "code",
   "execution_count": 36,
   "metadata": {
    "collapsed": false
   },
   "outputs": [
    {
     "data": {
      "text/html": [
       "<div>\n",
       "<table border=\"1\" class=\"dataframe\">\n",
       "  <thead>\n",
       "    <tr style=\"text-align: right;\">\n",
       "      <th></th>\n",
       "      <th>times_pregnant</th>\n",
       "      <th>plasma_glucose</th>\n",
       "      <th>diastolic_pressure</th>\n",
       "      <th>triceps_skin_fold</th>\n",
       "      <th>insulin</th>\n",
       "      <th>bmi</th>\n",
       "      <th>diabetes_pedigree</th>\n",
       "      <th>age</th>\n",
       "      <th>class</th>\n",
       "    </tr>\n",
       "  </thead>\n",
       "  <tbody>\n",
       "    <tr>\n",
       "      <th>count</th>\n",
       "      <td>768.000000</td>\n",
       "      <td>768.000000</td>\n",
       "      <td>768.000000</td>\n",
       "      <td>768.000000</td>\n",
       "      <td>768.000000</td>\n",
       "      <td>768.000000</td>\n",
       "      <td>768.000000</td>\n",
       "      <td>768.000000</td>\n",
       "      <td>768.000000</td>\n",
       "    </tr>\n",
       "    <tr>\n",
       "      <th>mean</th>\n",
       "      <td>3.845052</td>\n",
       "      <td>120.894531</td>\n",
       "      <td>69.105469</td>\n",
       "      <td>20.536458</td>\n",
       "      <td>79.799479</td>\n",
       "      <td>31.992578</td>\n",
       "      <td>0.471876</td>\n",
       "      <td>33.240885</td>\n",
       "      <td>0.348958</td>\n",
       "    </tr>\n",
       "    <tr>\n",
       "      <th>std</th>\n",
       "      <td>3.369578</td>\n",
       "      <td>31.972618</td>\n",
       "      <td>19.355807</td>\n",
       "      <td>15.952218</td>\n",
       "      <td>115.244002</td>\n",
       "      <td>7.884160</td>\n",
       "      <td>0.331329</td>\n",
       "      <td>11.760232</td>\n",
       "      <td>0.476951</td>\n",
       "    </tr>\n",
       "    <tr>\n",
       "      <th>min</th>\n",
       "      <td>0.000000</td>\n",
       "      <td>0.000000</td>\n",
       "      <td>0.000000</td>\n",
       "      <td>0.000000</td>\n",
       "      <td>0.000000</td>\n",
       "      <td>0.000000</td>\n",
       "      <td>0.078000</td>\n",
       "      <td>21.000000</td>\n",
       "      <td>0.000000</td>\n",
       "    </tr>\n",
       "    <tr>\n",
       "      <th>25%</th>\n",
       "      <td>1.000000</td>\n",
       "      <td>99.000000</td>\n",
       "      <td>62.000000</td>\n",
       "      <td>0.000000</td>\n",
       "      <td>0.000000</td>\n",
       "      <td>27.300000</td>\n",
       "      <td>0.243750</td>\n",
       "      <td>24.000000</td>\n",
       "      <td>0.000000</td>\n",
       "    </tr>\n",
       "    <tr>\n",
       "      <th>50%</th>\n",
       "      <td>3.000000</td>\n",
       "      <td>117.000000</td>\n",
       "      <td>72.000000</td>\n",
       "      <td>23.000000</td>\n",
       "      <td>30.500000</td>\n",
       "      <td>32.000000</td>\n",
       "      <td>0.372500</td>\n",
       "      <td>29.000000</td>\n",
       "      <td>0.000000</td>\n",
       "    </tr>\n",
       "    <tr>\n",
       "      <th>75%</th>\n",
       "      <td>6.000000</td>\n",
       "      <td>140.250000</td>\n",
       "      <td>80.000000</td>\n",
       "      <td>32.000000</td>\n",
       "      <td>127.250000</td>\n",
       "      <td>36.600000</td>\n",
       "      <td>0.626250</td>\n",
       "      <td>41.000000</td>\n",
       "      <td>1.000000</td>\n",
       "    </tr>\n",
       "    <tr>\n",
       "      <th>max</th>\n",
       "      <td>17.000000</td>\n",
       "      <td>199.000000</td>\n",
       "      <td>122.000000</td>\n",
       "      <td>99.000000</td>\n",
       "      <td>846.000000</td>\n",
       "      <td>67.100000</td>\n",
       "      <td>2.420000</td>\n",
       "      <td>81.000000</td>\n",
       "      <td>1.000000</td>\n",
       "    </tr>\n",
       "  </tbody>\n",
       "</table>\n",
       "</div>"
      ],
      "text/plain": [
       "       times_pregnant  plasma_glucose  diastolic_pressure  triceps_skin_fold  \\\n",
       "count      768.000000      768.000000          768.000000         768.000000   \n",
       "mean         3.845052      120.894531           69.105469          20.536458   \n",
       "std          3.369578       31.972618           19.355807          15.952218   \n",
       "min          0.000000        0.000000            0.000000           0.000000   \n",
       "25%          1.000000       99.000000           62.000000           0.000000   \n",
       "50%          3.000000      117.000000           72.000000          23.000000   \n",
       "75%          6.000000      140.250000           80.000000          32.000000   \n",
       "max         17.000000      199.000000          122.000000          99.000000   \n",
       "\n",
       "          insulin         bmi  diabetes_pedigree         age       class  \n",
       "count  768.000000  768.000000         768.000000  768.000000  768.000000  \n",
       "mean    79.799479   31.992578           0.471876   33.240885    0.348958  \n",
       "std    115.244002    7.884160           0.331329   11.760232    0.476951  \n",
       "min      0.000000    0.000000           0.078000   21.000000    0.000000  \n",
       "25%      0.000000   27.300000           0.243750   24.000000    0.000000  \n",
       "50%     30.500000   32.000000           0.372500   29.000000    0.000000  \n",
       "75%    127.250000   36.600000           0.626250   41.000000    1.000000  \n",
       "max    846.000000   67.100000           2.420000   81.000000    1.000000  "
      ]
     },
     "execution_count": 36,
     "metadata": {},
     "output_type": "execute_result"
    }
   ],
   "source": [
    "import pandas as pd\n",
    "import numpy as np\n",
    "import matplotlib.pyplot as plt\n",
    "\n",
    "#- Describe the content of the dataset and its goals\n",
    "\n",
    "#A: The contents of the dataset patient history and vitals of Pima Indians that are possible risk factors in developing\n",
    "# diabetes.  I suppose the goal is to identify which patterns matter most when predicting diabetes, so that it can\n",
    "# diagnosed earlier.\n",
    "\n",
    "#- Describe the features and formulate a hypothesis on which might be relevant in predicting diabetes\n",
    "#A: See #7 below: (Taken from data description) Taking a look at the standard deviation, I feel like the glucose\n",
    "# tolerance test and serum insulin test will be the most valuable features given that they having the highest\n",
    "# variance.  The number of times pregnant seem very high for certain patients (max 17 times).\n",
    "\n",
    "\n",
    "#7. For Each Attribute: (all numeric-valued)\n",
    "#   1. Number of times pregnant - How many times the patient has been pregnant.\n",
    "#   2. Plasma glucose concentration a 2 hours in an oral glucose tolerance test - Your blood sugar level after given\n",
    "#      a controlled amount of glucose.\n",
    "#   3. Diastolic blood pressure (mm Hg) - Your resting blood pressure (when your heart is not flexed).\n",
    "#   4. Triceps skin fold thickness (mm) - The thickness of your underarm skin.\n",
    "#   5. 2-Hour serum insulin (mu U/ml)\n",
    "#   6. Body mass index (weight in kg/(height in m)^2)\n",
    "#   7. Diabetes pedigree function\n",
    "#   8. Age (years) - Your age.\n",
    "#   9. Class variable (0 or 1)\n",
    "\n",
    "\n",
    "#- Describe the missing/NULL values. Decide if you should impute or drop them and justify your choice.\n",
    "#Looking at the min values, I suppose a patient could have never been pregnant, but the following features should have\n",
    "# min values > 0.00 : plasma_glucose, diastolic_pressure, triceps_skin_fold, insulin, bmi\n",
    "# Looking at the 25% triceps_skin_fold and insulin are 0.00, telling me that there is a lot of missing data in those\n",
    "#features. I would likely drop those.\n",
    "\n",
    "\n",
    "\n",
    "attributes = ['times_pregnant', 'plasma_glucose', 'diastolic_pressure', 'triceps_skin_fold', 'insulin', 'bmi', 'diabetes_pedigree','age','class']\n",
    "data = pd.read_csv('pima-indians-diabetes.data.txt', sep=',', names=attributes)\n",
    "data.describe()\n",
    "#data.head(768)\n"
   ]
  },
  {
   "cell_type": "code",
   "execution_count": 37,
   "metadata": {
    "collapsed": false
   },
   "outputs": [
    {
     "data": {
      "text/html": [
       "<div>\n",
       "<table border=\"1\" class=\"dataframe\">\n",
       "  <thead>\n",
       "    <tr style=\"text-align: right;\">\n",
       "      <th></th>\n",
       "      <th>times_pregnant</th>\n",
       "      <th>plasma_glucose</th>\n",
       "      <th>diastolic_pressure</th>\n",
       "      <th>bmi</th>\n",
       "      <th>diabetes_pedigree</th>\n",
       "      <th>age</th>\n",
       "      <th>class</th>\n",
       "    </tr>\n",
       "  </thead>\n",
       "  <tbody>\n",
       "    <tr>\n",
       "      <th>count</th>\n",
       "      <td>768.000000</td>\n",
       "      <td>768.000000</td>\n",
       "      <td>768.000000</td>\n",
       "      <td>768.000000</td>\n",
       "      <td>768.000000</td>\n",
       "      <td>768.000000</td>\n",
       "      <td>768.000000</td>\n",
       "    </tr>\n",
       "    <tr>\n",
       "      <th>mean</th>\n",
       "      <td>3.845052</td>\n",
       "      <td>120.894531</td>\n",
       "      <td>69.105469</td>\n",
       "      <td>31.992578</td>\n",
       "      <td>0.471876</td>\n",
       "      <td>33.240885</td>\n",
       "      <td>0.348958</td>\n",
       "    </tr>\n",
       "    <tr>\n",
       "      <th>std</th>\n",
       "      <td>3.369578</td>\n",
       "      <td>31.972618</td>\n",
       "      <td>19.355807</td>\n",
       "      <td>7.884160</td>\n",
       "      <td>0.331329</td>\n",
       "      <td>11.760232</td>\n",
       "      <td>0.476951</td>\n",
       "    </tr>\n",
       "    <tr>\n",
       "      <th>min</th>\n",
       "      <td>0.000000</td>\n",
       "      <td>0.000000</td>\n",
       "      <td>0.000000</td>\n",
       "      <td>0.000000</td>\n",
       "      <td>0.078000</td>\n",
       "      <td>21.000000</td>\n",
       "      <td>0.000000</td>\n",
       "    </tr>\n",
       "    <tr>\n",
       "      <th>25%</th>\n",
       "      <td>1.000000</td>\n",
       "      <td>99.000000</td>\n",
       "      <td>62.000000</td>\n",
       "      <td>27.300000</td>\n",
       "      <td>0.243750</td>\n",
       "      <td>24.000000</td>\n",
       "      <td>0.000000</td>\n",
       "    </tr>\n",
       "    <tr>\n",
       "      <th>50%</th>\n",
       "      <td>3.000000</td>\n",
       "      <td>117.000000</td>\n",
       "      <td>72.000000</td>\n",
       "      <td>32.000000</td>\n",
       "      <td>0.372500</td>\n",
       "      <td>29.000000</td>\n",
       "      <td>0.000000</td>\n",
       "    </tr>\n",
       "    <tr>\n",
       "      <th>75%</th>\n",
       "      <td>6.000000</td>\n",
       "      <td>140.250000</td>\n",
       "      <td>80.000000</td>\n",
       "      <td>36.600000</td>\n",
       "      <td>0.626250</td>\n",
       "      <td>41.000000</td>\n",
       "      <td>1.000000</td>\n",
       "    </tr>\n",
       "    <tr>\n",
       "      <th>max</th>\n",
       "      <td>17.000000</td>\n",
       "      <td>199.000000</td>\n",
       "      <td>122.000000</td>\n",
       "      <td>67.100000</td>\n",
       "      <td>2.420000</td>\n",
       "      <td>81.000000</td>\n",
       "      <td>1.000000</td>\n",
       "    </tr>\n",
       "  </tbody>\n",
       "</table>\n",
       "</div>"
      ],
      "text/plain": [
       "       times_pregnant  plasma_glucose  diastolic_pressure         bmi  \\\n",
       "count      768.000000      768.000000          768.000000  768.000000   \n",
       "mean         3.845052      120.894531           69.105469   31.992578   \n",
       "std          3.369578       31.972618           19.355807    7.884160   \n",
       "min          0.000000        0.000000            0.000000    0.000000   \n",
       "25%          1.000000       99.000000           62.000000   27.300000   \n",
       "50%          3.000000      117.000000           72.000000   32.000000   \n",
       "75%          6.000000      140.250000           80.000000   36.600000   \n",
       "max         17.000000      199.000000          122.000000   67.100000   \n",
       "\n",
       "       diabetes_pedigree         age       class  \n",
       "count         768.000000  768.000000  768.000000  \n",
       "mean            0.471876   33.240885    0.348958  \n",
       "std             0.331329   11.760232    0.476951  \n",
       "min             0.078000   21.000000    0.000000  \n",
       "25%             0.243750   24.000000    0.000000  \n",
       "50%             0.372500   29.000000    0.000000  \n",
       "75%             0.626250   41.000000    1.000000  \n",
       "max             2.420000   81.000000    1.000000  "
      ]
     },
     "execution_count": 37,
     "metadata": {},
     "output_type": "execute_result"
    }
   ],
   "source": [
    "data.drop('triceps_skin_fold', axis=1, inplace=True)\n",
    "data.drop('insulin', axis=1, inplace=True)\n",
    "data.describe()"
   ]
  },
  {
   "cell_type": "code",
   "execution_count": 45,
   "metadata": {
    "collapsed": false
   },
   "outputs": [],
   "source": [
    "#- Come up with a benchmark for the minimum performance that an algorithm should have on this dataset\n",
    "#Based on the mean, 34.9% of patients have diabetes."
   ]
  },
  {
   "cell_type": "code",
   "execution_count": 65,
   "metadata": {
    "collapsed": false
   },
   "outputs": [
    {
     "name": "stdout",
     "output_type": "stream",
     "text": [
      "             precision    recall  f1-score   support\n",
      "\n",
      "No Diabetes       0.84      0.86      0.85       132\n",
      "   Diabetes       0.67      0.65      0.66        60\n",
      "\n",
      "avg / total       0.79      0.79      0.79       192\n",
      "\n"
     ]
    }
   ],
   "source": [
    "#- What's the best performance you can get with kNN? Is kNN a good choice for this dataset?\n",
    "\n",
    "data = data.dropna()\n",
    "y = data['class']\n",
    "X = data.drop('class', axis=1)\n",
    "from sklearn.cross_validation import train_test_split\n",
    "X_train, X_test, y_train, y_test = train_test_split(X, y)\n",
    "\n",
    "from sklearn.neighbors import KNeighborsClassifier\n",
    "from sklearn import metrics\n",
    "\n",
    "knn = KNeighborsClassifier(n_neighbors=5).fit(X_train, y_train) \n",
    "y_pred = knn.predict(X_test) \n",
    "y_train_pred = knn.predict(X_train) \n",
    "\n",
    "print metrics.classification_report(y_test, y_pred, target_names=['No Diabetes', 'Diabetes']) \n",
    "#precision\n",
    "#1 0.72\n",
    "#2 0.73\n",
    "#3 0.77\n",
    "#4 0.77\n",
    "#5 0.77\n",
    "#6 0.75\n",
    "#7 0.73\n",
    "#8 0.71\n",
    "#9 0.75\n",
    "#10 0.73\n",
    "\n",
    "#f1\n",
    "#1 0.67\n",
    "#2 0.65\n",
    "#3 0.73\n",
    "#4 0.73\n",
    "#5 0.76\n",
    "#6 0.76\n",
    "#7 0.69\n",
    "#8 0.71\n",
    "#9 0.75\n",
    "#10 0.70\n",
    "\n",
    "#With neighbors=5, we get the highest precision and f1 score."
   ]
  },
  {
   "cell_type": "code",
   "execution_count": 69,
   "metadata": {
    "collapsed": false
   },
   "outputs": [
    {
     "data": {
      "text/plain": [
       "GridSearchCV(cv=ShuffleSplit(576, n_iter=10, test_size=0.2, random_state=0),\n",
       "       error_score='raise',\n",
       "       estimator=MultinomialNB(alpha=1.0, class_prior=None, fit_prior=True),\n",
       "       fit_params={}, iid=True, n_jobs=1,\n",
       "       param_grid={'alpha': array([  1.00000e-04,   1.11200e-01,   2.22300e-01,   3.33400e-01,\n",
       "         4.44500e-01,   5.55600e-01,   6.66700e-01,   7.77800e-01,\n",
       "         8.88900e-01,   1.00000e+00])},\n",
       "       pre_dispatch='2*n_jobs', refit=True, scoring=None, verbose=0)"
      ]
     },
     "execution_count": 69,
     "metadata": {},
     "output_type": "execute_result"
    }
   ],
   "source": [
    "#- What's the best performance you can get with Naive Bayes? Is NB a good choice for this dataset?\n",
    "from sklearn.grid_search import GridSearchCV\n",
    "from sklearn.naive_bayes import MultinomialNB\n",
    "from sklearn.cross_validation import ShuffleSplit\n",
    "\n",
    "cv = ShuffleSplit(X_train.shape[0], n_iter=10, test_size=0.2, random_state=0)\n",
    "parameters = {'alpha': np.linspace(1e-4, 1, 10)}\n",
    "nbayes = MultinomialNB()\n",
    "clf = GridSearchCV(nbayes, parameters, cv=cv)\n",
    "clf.fit(X_train, y_train)"
   ]
  },
  {
   "cell_type": "code",
   "execution_count": 70,
   "metadata": {
    "collapsed": false
   },
   "outputs": [
    {
     "name": "stdout",
     "output_type": "stream",
     "text": [
      "             precision    recall  f1-score   support\n",
      "\n",
      "No Diabetes       0.86      0.93      0.89       132\n",
      "   Diabetes       0.82      0.67      0.73        60\n",
      "\n",
      "avg / total       0.85      0.85      0.84       192\n",
      "\n"
     ]
    }
   ],
   "source": [
    "#- What's the best performance you can get with Logistic Regression? Is LR a good choice for this dataset?\n",
    "from sklearn.preprocessing import StandardScaler\n",
    "stdsc = StandardScaler()\n",
    "# transform our training features\n",
    "X_train_std = stdsc.fit_transform(X_train)\n",
    "# transform the testing features in the same way\n",
    "X_test_std = stdsc.transform(X_test)\n",
    "\n",
    "from sklearn.linear_model import LogisticRegression\n",
    "logreg = LogisticRegression(penalty='l2', C=10)\n",
    "logreg.fit(X_train_std, y_train)\n",
    "y_pred = logreg.predict(X_test_std)\n",
    "print metrics.classification_report(y_test, y_pred, target_names=['No Diabetes', 'Diabetes']) \n",
    "\n",
    "#With a precision of 0.78 and and an f1 of 0.77, this is slightly better than kNN."
   ]
  },
  {
   "cell_type": "code",
   "execution_count": 58,
   "metadata": {
    "collapsed": false
   },
   "outputs": [
    {
     "name": "stdout",
     "output_type": "stream",
     "text": [
      "CV accuracy [ 0.76653696  0.7734375   0.78039216], Average accuracy 0.773455540614\n",
      "Estimators 1, CV accuracy [ 0.6692607  0.6796875  0.6745098], Average accuracy 0.674486001437\n",
      "Estimators 11, CV accuracy [ 0.73540856  0.74609375  0.78431373], Average accuracy 0.755272011934\n",
      "Estimators 21, CV accuracy [ 0.75875486  0.73046875  0.77647059], Average accuracy 0.755231400683\n",
      "Estimators 31, CV accuracy [ 0.72762646  0.7421875   0.77254902], Average accuracy 0.747454326251\n",
      "Estimators 41, CV accuracy [ 0.73540856  0.74609375  0.78823529], Average accuracy 0.756579201476\n",
      "Estimators 51, CV accuracy [ 0.72762646  0.75390625  0.78039216], Average accuracy 0.753974955336\n",
      "Estimators 61, CV accuracy [ 0.73151751  0.7421875   0.78431373], Average accuracy 0.752672911739\n",
      "Estimators 71, CV accuracy [ 0.74708171  0.765625    0.78823529], Average accuracy 0.766980668727\n",
      "Estimators 81, CV accuracy [ 0.73151751  0.7421875   0.78823529], Average accuracy 0.753980101282\n",
      "Estimators 91, CV accuracy [ 0.75875486  0.75        0.79215686], Average accuracy 0.766970575519\n"
     ]
    }
   ],
   "source": [
    "#- What's the best performance you can get with Random Forest? Is RF a good choice for this dataset?\n",
    "from sklearn.ensemble import RandomForestClassifier\n",
    "from sklearn.cross_validation import cross_val_score\n",
    "\n",
    "model = RandomForestClassifier(n_estimators = 20)\n",
    "model.fit(X, y)\n",
    "\n",
    "scores = cross_val_score(model, X, y, scoring='accuracy')\n",
    "print('CV accuracy {}, Average accuracy {}'.format(scores, scores.mean()))\n",
    "\n",
    "for n_trees in range(1, 100, 10):\n",
    "    model = RandomForestClassifier(n_estimators = n_trees)\n",
    "    scores = cross_val_score(model, X, y, scoring='accuracy')\n",
    "    print('Estimators {}, CV accuracy {}, Average accuracy {}'.format(n_trees, scores, scores.mean()))"
   ]
  },
  {
   "cell_type": "code",
   "execution_count": 60,
   "metadata": {
    "collapsed": false
   },
   "outputs": [
    {
     "data": {
      "text/html": [
       "<div>\n",
       "<table border=\"1\" class=\"dataframe\">\n",
       "  <thead>\n",
       "    <tr style=\"text-align: right;\">\n",
       "      <th></th>\n",
       "      <th>Features</th>\n",
       "      <th>Importance Score</th>\n",
       "    </tr>\n",
       "  </thead>\n",
       "  <tbody>\n",
       "    <tr>\n",
       "      <th>1</th>\n",
       "      <td>plasma_glucose</td>\n",
       "      <td>0.303477</td>\n",
       "    </tr>\n",
       "    <tr>\n",
       "      <th>3</th>\n",
       "      <td>bmi</td>\n",
       "      <td>0.197455</td>\n",
       "    </tr>\n",
       "    <tr>\n",
       "      <th>4</th>\n",
       "      <td>diabetes_pedigree</td>\n",
       "      <td>0.148711</td>\n",
       "    </tr>\n",
       "    <tr>\n",
       "      <th>5</th>\n",
       "      <td>age</td>\n",
       "      <td>0.146220</td>\n",
       "    </tr>\n",
       "    <tr>\n",
       "      <th>2</th>\n",
       "      <td>diastolic_pressure</td>\n",
       "      <td>0.107164</td>\n",
       "    </tr>\n",
       "  </tbody>\n",
       "</table>\n",
       "</div>"
      ],
      "text/plain": [
       "             Features  Importance Score\n",
       "1      plasma_glucose          0.303477\n",
       "3                 bmi          0.197455\n",
       "4   diabetes_pedigree          0.148711\n",
       "5                 age          0.146220\n",
       "2  diastolic_pressure          0.107164"
      ]
     },
     "execution_count": 60,
     "metadata": {},
     "output_type": "execute_result"
    }
   ],
   "source": [
    "model = RandomForestClassifier(n_estimators = 100)\n",
    "model.fit(X,y)\n",
    "features = X.columns\n",
    "feature_importances = model.feature_importances_\n",
    "features_df = pd.DataFrame({'Features': features, 'Importance Score': feature_importances})\n",
    "features_df.sort_values('Importance Score', inplace=True, ascending=False)\n",
    "\n",
    "features_df.head()\n",
    "\n"
   ]
  },
  {
   "cell_type": "code",
   "execution_count": 64,
   "metadata": {
    "collapsed": false
   },
   "outputs": [
    {
     "name": "stdout",
     "output_type": "stream",
     "text": [
      "             precision    recall  f1-score   support\n",
      "\n",
      "No Diabetes       0.74      0.89      0.81       114\n",
      "   Diabetes       0.78      0.54      0.64        78\n",
      "\n",
      "avg / total       0.75      0.75      0.74       192\n",
      "\n"
     ]
    }
   ],
   "source": [
    "model = RandomForestClassifier(n_estimators = 100) \n",
    "model.fit(X_train,y_train)\n",
    "y_pred = model.predict(X_test) \n",
    "print metrics.classification_report(y_test, y_pred, target_names=['No Diabetes', 'Diabetes'])\n",
    "\n",
    "#Precision of 0.75 and f1 of 0.74, so third best behind LR and kNN respectively."
   ]
  },
  {
   "cell_type": "code",
   "execution_count": 71,
   "metadata": {
    "collapsed": true
   },
   "outputs": [],
   "source": [
    "#- If you could only choose one, which classifer from the above that you already ran is best? How do you define\n",
    "#best? (hint: could be prediction accuracy, running time, interpretability, etc)\n",
    "\n",
    "#I would go with kNN based on best prediction accuracy (precision and f1 score).  It's also one of the fastest models.\n",
    "#This data set is also very similar to the kNN flower example for classification."
   ]
  },
  {
   "cell_type": "code",
   "execution_count": 72,
   "metadata": {
    "collapsed": false
   },
   "outputs": [
    {
     "name": "stdout",
     "output_type": "stream",
     "text": [
      "100 loops, best of 3: 4.17 ms per loop\n"
     ]
    }
   ],
   "source": [
    "%%timeit\n",
    "knn = KNeighborsClassifier(n_neighbors=5).fit(X_train, y_train) \n",
    "y_pred = pima_knn.predict(X_test) \n",
    "y_train_pred = pima_knn.predict(X_train)"
   ]
  },
  {
   "cell_type": "code",
   "execution_count": null,
   "metadata": {
    "collapsed": true
   },
   "outputs": [],
   "source": []
  }
 ],
 "metadata": {
  "kernelspec": {
   "display_name": "Python 2",
   "language": "python",
   "name": "python2"
  },
  "language_info": {
   "codemirror_mode": {
    "name": "ipython",
    "version": 2
   },
   "file_extension": ".py",
   "mimetype": "text/x-python",
   "name": "python",
   "nbconvert_exporter": "python",
   "pygments_lexer": "ipython2",
   "version": "2.7.11"
  }
 },
 "nbformat": 4,
 "nbformat_minor": 0
}
