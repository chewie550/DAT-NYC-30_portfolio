{
 "cells": [
  {
   "cell_type": "code",
   "execution_count": 94,
   "metadata": {
    "collapsed": false
   },
   "outputs": [
    {
     "name": "stdout",
     "output_type": "stream",
     "text": [
      "Survival Rate:\n",
      "712\n",
      "288\n",
      "40.4494382022\n",
      " \n",
      "Gender Rate:\n",
      "288\n",
      "195\n",
      "67.7083333333\n",
      " \n",
      "First Class Survivors:\n",
      "288\n",
      "120\n",
      "41.6666666667\n",
      " \n",
      "Second Class Survivors:\n",
      "288\n",
      "83\n",
      "28.8194444444\n",
      " \n",
      "Third Class Survivors:\n",
      "288\n",
      "85\n",
      "29.5138888889\n"
     ]
    },
    {
     "data": {
      "text/plain": [
       "<matplotlib.axes._subplots.AxesSubplot at 0x111903810>"
      ]
     },
     "execution_count": 94,
     "metadata": {},
     "output_type": "execute_result"
    },
    {
     "data": {
      "image/png": "[encoded data removed]",
      "text/plain": [
       "<matplotlib.figure.Figure at 0x110ee2f10>"
      ]
     },
     "metadata": {},
     "output_type": "display_data"
    }
   ],
   "source": [
    "import pandas as pd\n",
    "import numpy as np\n",
    "import matplotlib.pyplot as plt\n",
    "from collections import Counter\n",
    "%matplotlib inline\n",
    "\n",
    "#- What do you notice about the data? Any issues?\n",
    "#A: It appears that the Cabin column is incomplete.  Also, wives are listed as their husband's name, with their actual\n",
    "#name in parentheses.\n",
    "#- What is the overall survival rate?\n",
    "#A: 40.5%\n",
    "#\n",
    "#- What role does gender play in surviving?\n",
    "#A: More females survived than males. Females accounted for 195 out of 288 survivors: 67.7%\n",
    "#\n",
    "#- What role does class play in surviving?\n",
    "#A: More Pclass \"1\" survivors. \"1\" = 120, \"2\" = 83, \"3\" = 85.\n",
    "#\n",
    "#- What role does age play in surviving?\n",
    "#A: While more passengers in their 20s and 30s survived, there were more \n",
    "#passengers overall in that range.  A far higher percentage of children\n",
    "#under age 10 survived. Please see histogram.\n",
    "#\n",
    "#- Given the above, do you have any guesses on what predicts survival?\n",
    "#A: Young adult females in PClass 1 has the highest chance of survival.\n",
    "#\n",
    "#- Do you have any ideas for new features we could create from the data that would help us predict if someone will survive?\n",
    "#A: Apply coefficients to the passenger list based on Survived, Pclass, Sex, and Age to predict who would more likely\n",
    "#survive.\n",
    "#\n",
    "\n",
    "#!tail -5 /Users/kevinchu/DAT-NYC-30/homework/hw1/titanic_dropna.csv\n",
    "titanic = pd.read_csv('/Users/kevinchu/DAT-NYC-30/homework/hw1/titanic_dropna.csv', index_col=0)\n",
    "#!head -5 /Users/kevinchu/DAT-NYC-30/homework/hw1/titanic_dropna.csv\n",
    "#titanic.head()\n",
    "#titanic.info()\n",
    "\n",
    "print 'Survival Rate:'\n",
    "roster_count = len(titanic.index)\n",
    "print (roster_count)\n",
    "survivors = len(titanic[titanic.Survived == 1].index)\n",
    "print (survivors)\n",
    "survival_rate = float(survivors) / float(roster_count) * 100\n",
    "print(survival_rate);\n",
    "\n",
    "print ' '\n",
    "print 'Gender Rate:'\n",
    "print (survivors)\n",
    "female_survivors = len(titanic[(titanic.Survived == 1) & (titanic.Sex =='female')].index)\n",
    "print (female_survivors)\n",
    "female_survival_rate = float(female_survivors) / float(survivors) * 100\n",
    "print (female_survival_rate);\n",
    "\n",
    "print ' '\n",
    "print 'First Class Survivors:'\n",
    "print (survivors)\n",
    "pclass_1_survivors = len(titanic[(titanic.Survived == 1) & (titanic.Pclass ==1)].index)\n",
    "print (pclass_1_survivors)\n",
    "pclass_1_survivors_rate = float(pclass_1_survivors) / float(survivors) * 100\n",
    "print (pclass_1_survivors_rate);\n",
    "\n",
    "print ' '\n",
    "print 'Second Class Survivors:'\n",
    "print (survivors)\n",
    "pclass_2_survivors = len(titanic[(titanic.Survived == 1) & (titanic.Pclass ==2)].index)\n",
    "print (pclass_2_survivors)\n",
    "pclass_2_survivors_rate = float(pclass_2_survivors) / float(survivors) * 100\n",
    "print (pclass_2_survivors_rate);\n",
    "\n",
    "print ' '\n",
    "print 'Third Class Survivors:'\n",
    "print (survivors)\n",
    "pclass_3_survivors = len(titanic[(titanic.Survived == 1) & (titanic.Pclass ==3)].index)\n",
    "print (pclass_3_survivors)\n",
    "pclass_3_survivors_rate = float(pclass_3_survivors) / float(survivors) * 100\n",
    "print (pclass_3_survivors_rate);\n",
    "\n",
    "titanic.Age.plot(kind='hist')\n",
    "titanic[titanic.Survived == 1].Age.plot(kind='hist')\n",
    "\n",
    "\n",
    "#titanic[titanic.Survived == 1].describe()\n",
    "#titanic[(titanic.Survived == 1) & (titanic.Sex == 'female') ].describe()\n",
    "#titanic[titanic.Survived == 1].plot(kind='hist');\n",
    "\n",
    "#titanic['Age'].plot(kind='hist');\n",
    "#titanic.plot(kind='hist', x='Age', y='Survived', ylim=(0,1), alpha=0.1);"
   ]
  },
  {
   "cell_type": "code",
   "execution_count": null,
   "metadata": {
    "collapsed": true
   },
   "outputs": [],
   "source": []
  }
 ],
 "metadata": {
  "kernelspec": {
   "display_name": "Python 2",
   "language": "python",
   "name": "python2"
  },
  "language_info": {
   "codemirror_mode": {
    "name": "ipython",
    "version": 2
   },
   "file_extension": ".py",
   "mimetype": "text/x-python",
   "name": "python",
   "nbconvert_exporter": "python",
   "pygments_lexer": "ipython2",
   "version": "2.7.11"
  }
 },
 "nbformat": 4,
 "nbformat_minor": 0
}
